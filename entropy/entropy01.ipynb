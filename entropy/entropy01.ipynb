{
 "cells": [
  {
   "cell_type": "code",
   "execution_count": null,
   "metadata": {},
   "outputs": [],
   "source": [
    "import math\n",
    "\n",
    "with open('text01.txt','r') as f:\n",
    "    data = f.read()\n",
    "print(data)"
   ]
  },
  {
   "cell_type": "code",
   "execution_count": null,
   "metadata": {},
   "outputs": [],
   "source": [
    "def count_letters(data):\n",
    "    letters = {'α':0,'β':0,'γ':0,'δ':0,'ε':0,'ζ':0,'η':0,'θ':0,'ι':0,'κ':0,'λ':0,'μ':0,'ν':0,'ξ':0,'ο':0,'π':0,\n",
    "           'ρ':0,'σ':0,'τ':0,'υ':0,'φ':0,'χ':0,'ψ':0,'ω':0,' ':0}\n",
    "    total = 0\n",
    "    for i in data:\n",
    "        if i in ['α','Α','ά','Ά']:\n",
    "            total += 1\n",
    "            letters['α'] += 1\n",
    "        elif i in ['β','Β']:\n",
    "            total += 1\n",
    "            letters['β'] += 1\n",
    "        elif i in ['γ','Γ']:\n",
    "            total += 1\n",
    "            letters['γ'] += 1\n",
    "        elif i in ['δ','Δ']:\n",
    "            total += 1\n",
    "            letters['δ'] += 1\n",
    "        elif i in ['ε','έ','Ε','Έ']:\n",
    "            total += 1\n",
    "            letters['ε'] += 1\n",
    "        elif i in ['ζ','Ζ']:\n",
    "            total += 1\n",
    "            letters['ζ'] += 1\n",
    "        elif i in ['η','ή','Η','Ή']:\n",
    "            total += 1\n",
    "            letters['η'] += 1\n",
    "        elif i in ['θ','Θ']:\n",
    "            total += 1\n",
    "            letters['θ'] += 1\n",
    "        elif i in ['ι','ί','Ι','Ί','ϊ','ΐ']:\n",
    "            total += 1\n",
    "            letters['ι'] += 1\n",
    "        elif i in ['κ','Κ']:\n",
    "            total += 1\n",
    "            letters['κ'] += 1\n",
    "        elif i in ['λ','Λ']:\n",
    "            total += 1\n",
    "            letters['λ'] += 1\n",
    "        elif i in ['μ','Μ']:\n",
    "            total += 1\n",
    "            letters['μ'] += 1\n",
    "        elif i in ['ν','Ν']:\n",
    "            total += 1\n",
    "            letters['ν'] += 1\n",
    "        elif i in ['ξ','Ξ']:\n",
    "            total += 1\n",
    "            letters['ξ'] += 1\n",
    "        elif i in ['ο','ό','Ο','Ό']:\n",
    "            total += 1\n",
    "            letters['ο'] += 1\n",
    "        elif i in ['π','Π']:\n",
    "            total += 1\n",
    "            letters['π'] += 1\n",
    "        elif i in ['ρ','Ρ']:\n",
    "            total += 1\n",
    "            letters['ρ'] += 1\n",
    "        elif i in ['σ','Σ','ς']:\n",
    "            total += 1\n",
    "            letters['σ'] += 1\n",
    "        elif i in ['τ','Τ']:\n",
    "            total += 1\n",
    "            letters['τ'] += 1\n",
    "        elif i in ['υ','ύ','Υ','Ύ']:\n",
    "            total += 1\n",
    "            letters['υ'] += 1\n",
    "        elif i in ['φ','Φ']:\n",
    "            total += 1\n",
    "            letters['φ'] += 1\n",
    "        elif i in ['χ','Χ']:\n",
    "            total += 1\n",
    "            letters['χ'] += 1\n",
    "        elif i in ['ψ','Ψ']:\n",
    "            total += 1\n",
    "            letters['ψ'] += 1\n",
    "        elif i in ['ω','Ω','ώ','Ώ']:\n",
    "            total += 1\n",
    "            letters['ω'] += 1\n",
    "        elif i in [' ']:\n",
    "            total += 1\n",
    "            letters[' '] += 1\n",
    "    return letters,total"
   ]
  },
  {
   "cell_type": "code",
   "execution_count": null,
   "metadata": {},
   "outputs": [],
   "source": [
    "letters,total = count_letters(data)\n",
    "print(letters)"
   ]
  },
  {
   "cell_type": "code",
   "execution_count": null,
   "metadata": {},
   "outputs": [],
   "source": [
    "def make_pdf(l,t):\n",
    "    pdf = {}\n",
    "    num_letters = 0\n",
    "    for l in letters.keys():\n",
    "        num_letters += 1\n",
    "        pdf[l] = letters[l]/t\n",
    "    return pdf,num_letters"
   ]
  },
  {
   "cell_type": "code",
   "execution_count": null,
   "metadata": {},
   "outputs": [],
   "source": [
    "pdf,number_letters = make_pdf(letters,total)\n",
    "print(pdf)"
   ]
  },
  {
   "cell_type": "code",
   "execution_count": null,
   "metadata": {},
   "outputs": [],
   "source": [
    "def h_equal(number):\n",
    "    return math.log(number,2)"
   ]
  },
  {
   "cell_type": "code",
   "execution_count": null,
   "metadata": {},
   "outputs": [],
   "source": [
    "def h_prob(pdf):\n",
    "    prob = 0\n",
    "    H = 0\n",
    "    for i in pdf.keys():\n",
    "        prob += pdf[i]\n",
    "        if pdf[i] > 0:\n",
    "            H += -pdf[i]*math.log(pdf[i],2)\n",
    "    return H,prob"
   ]
  },
  {
   "cell_type": "code",
   "execution_count": null,
   "metadata": {},
   "outputs": [],
   "source": [
    "print('Για ισοπίθανα γράμματα Η(Χ) = ',h_equal(number_letters))\n",
    "h,p = h_prob(pdf)\n",
    "print('Συνολική πιθανότητα = ',p)\n",
    "print('Με τη μετρημένη πιθανότητα κάθε γράμματος Η(Χ) = ',h)"
   ]
  },
  {
   "cell_type": "code",
   "execution_count": null,
   "metadata": {},
   "outputs": [],
   "source": []
  }
 ],
 "metadata": {
  "kernelspec": {
   "display_name": "Python 3",
   "language": "python",
   "name": "python3"
  },
  "language_info": {
   "codemirror_mode": {
    "name": "ipython",
    "version": 3
   },
   "file_extension": ".py",
   "mimetype": "text/x-python",
   "name": "python",
   "nbconvert_exporter": "python",
   "pygments_lexer": "ipython3",
   "version": "3.6.9"
  }
 },
 "nbformat": 4,
 "nbformat_minor": 2
}
