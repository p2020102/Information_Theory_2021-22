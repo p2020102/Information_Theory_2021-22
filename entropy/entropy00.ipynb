{
 "cells": [
  {
   "cell_type": "code",
   "execution_count": 1,
   "metadata": {},
   "outputs": [
    {
     "name": "stdout",
     "output_type": "stream",
     "text": [
      "0010000000111000000000101000100100000000000100001000000000000000100010000000001100100000000000000010100000000010100010110000100010000000100000000000000010000101000000000101000000000011000000000000011001010010100001110001000000000000100001010010001100000001000000000001000010001000010010000111000000000000000000000001000100000000000000100000000001000000010000100011101000000010100100100001000000010000001100000001000001000011000100000010000011000000101000010000000000010000000001001001000000001000000001000100001000001000000000010010000100100000000000100000000000000000001000011101000000000000010000000000000000100000000000000100000000100000000000000001001000000010000000000000000000000011010001000000100000010000000000000000000001000000100000100000010001100000010000000000000000000001000100000000000000000000010000000001000001000010010001000001000000000000110000000000000000000000000000000000000010000000000000010010000010000000100100000000000000001000000000010000000010100000100000010010101100010011\n"
     ]
    }
   ],
   "source": [
    "import math\n",
    "\n",
    "f = open('rand_bit_0.15.txt','r')\n",
    "data = f.read()\n",
    "f.close()\n",
    "print(data)"
   ]
  },
  {
   "cell_type": "code",
   "execution_count": 2,
   "metadata": {},
   "outputs": [],
   "source": [
    "def make_pdf(data):\n",
    "    alphabet = {'0':0,'1':0}\n",
    "    for l in data:\n",
    "        if l == '0':\n",
    "            alphabet['0'] += 1\n",
    "        elif l == '1':\n",
    "            alphabet['1'] += 1\n",
    "    return alphabet"
   ]
  },
  {
   "cell_type": "code",
   "execution_count": 3,
   "metadata": {},
   "outputs": [
    {
     "name": "stdout",
     "output_type": "stream",
     "text": [
      "{'0': 845, '1': 155}\n"
     ]
    }
   ],
   "source": [
    "alphabet = make_pdf(data)\n",
    "print(alphabet)"
   ]
  },
  {
   "cell_type": "code",
   "execution_count": 4,
   "metadata": {},
   "outputs": [
    {
     "name": "stdout",
     "output_type": "stream",
     "text": [
      "{'0': 0.845, '1': 0.155}\n"
     ]
    }
   ],
   "source": [
    "pdf = {'0':alphabet['0']/(alphabet['0']+alphabet['1']),'1':alphabet['1']/(alphabet['0']+alphabet['1'])}\n",
    "print(pdf)"
   ]
  },
  {
   "cell_type": "code",
   "execution_count": 5,
   "metadata": {},
   "outputs": [
    {
     "name": "stdout",
     "output_type": "stream",
     "text": [
      "entropy =  0.6222126380063133 bits\n"
     ]
    }
   ],
   "source": [
    "entropy = 0\n",
    "for i in pdf.keys():\n",
    "    entropy -= pdf[i] * math.log(pdf[i],2)\n",
    "print('entropy = ',entropy, 'bits')"
   ]
  },
  {
   "cell_type": "code",
   "execution_count": null,
   "metadata": {},
   "outputs": [],
   "source": [
    "distance = 0\n",
    "q = {'0':0.5,'1':0.5}\n",
    "for i in pdf.keys():\n",
    "    distance += pdf[i]*math.log(pdf[i]/q[i],2)\n",
    "print('Kullback-Leibler distance = ',distance)"
   ]
  },
  {
   "cell_type": "code",
   "execution_count": null,
   "metadata": {},
   "outputs": [],
   "source": []
  }
 ],
 "metadata": {
  "kernelspec": {
   "display_name": "Python 3",
   "language": "python",
   "name": "python3"
  },
  "language_info": {
   "codemirror_mode": {
    "name": "ipython",
    "version": 3
   },
   "file_extension": ".py",
   "mimetype": "text/x-python",
   "name": "python",
   "nbconvert_exporter": "python",
   "pygments_lexer": "ipython3",
   "version": "3.7.4"
  }
 },
 "nbformat": 4,
 "nbformat_minor": 2
}
