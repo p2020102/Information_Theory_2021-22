{
 "cells": [
  {
   "cell_type": "code",
   "execution_count": null,
   "metadata": {},
   "outputs": [],
   "source": [
    "import random\n",
    "import math\n",
    "\n",
    "alphabet = ['1','2','3']\n",
    "doubles = []\n",
    "for i in range(len(alphabet)):\n",
    "    for j in range(len(alphabet)):\n",
    "        doubles.append(alphabet[i]+alphabet[j])\n",
    "print(doubles)"
   ]
  },
  {
   "cell_type": "code",
   "execution_count": null,
   "metadata": {},
   "outputs": [],
   "source": [
    "f = open('data.txt','w')\n",
    "for i in range(10000):\n",
    "    r = random.random()\n",
    "    if r < 0.3:\n",
    "        j = 0\n",
    "    elif r < 0.9:\n",
    "        j = 1\n",
    "    else:\n",
    "        j = 2\n",
    "    f.write(alphabet[j])\n",
    "f.close()"
   ]
  },
  {
   "cell_type": "code",
   "execution_count": null,
   "metadata": {},
   "outputs": [],
   "source": [
    "def pdf(lista,data):\n",
    "    d = {}\n",
    "    for i in lista:\n",
    "        d[i] = 0\n",
    "    s = 0\n",
    "    for i in range(0,len(data),len(lista[0])):\n",
    "        t = ''\n",
    "        for j in range(len(lista[0])):\n",
    "            t += data[i+j]\n",
    "        d[t] += 1\n",
    "        s += 1\n",
    "    for i in d.keys():\n",
    "        d[i] = d[i]/s\n",
    "    return d"
   ]
  },
  {
   "cell_type": "code",
   "execution_count": null,
   "metadata": {},
   "outputs": [],
   "source": [
    "f = open('data.txt','r')\n",
    "data = f.read()\n",
    "f.close()"
   ]
  },
  {
   "cell_type": "code",
   "execution_count": null,
   "metadata": {},
   "outputs": [],
   "source": [
    "pdf_alphabet = pdf(alphabet,data)\n",
    "pdf_doubles = pdf(doubles,data)\n",
    "print(pdf_alphabet)\n",
    "print(pdf_doubles)"
   ]
  },
  {
   "cell_type": "code",
   "execution_count": null,
   "metadata": {},
   "outputs": [],
   "source": [
    "def entropy(d):\n",
    "    e = 0\n",
    "    for i in d.keys():\n",
    "        e -= d[i]*math.log(d[i],2)\n",
    "    return e"
   ]
  },
  {
   "cell_type": "code",
   "execution_count": null,
   "metadata": {},
   "outputs": [],
   "source": [
    "print('Base entropy = ',entropy(pdf_alphabet))\n",
    "print('Duets entropy = ',entropy(pdf_doubles))"
   ]
  },
  {
   "cell_type": "code",
   "execution_count": null,
   "metadata": {},
   "outputs": [],
   "source": [
    "def make_uni(d):\n",
    "    uni = {}\n",
    "    for i in d:\n",
    "        uni[i] = 1/len(d)\n",
    "    return uni"
   ]
  },
  {
   "cell_type": "code",
   "execution_count": null,
   "metadata": {},
   "outputs": [],
   "source": [
    "def distance(d1,d2):\n",
    "    dist = 0\n",
    "    for i in d1.keys():\n",
    "        dist += d1[i]*math.log((d1[i]/d2[i]),2)\n",
    "    return dist"
   ]
  },
  {
   "cell_type": "code",
   "execution_count": null,
   "metadata": {},
   "outputs": [],
   "source": [
    "uni_alphabet = make_uni(alphabet)\n",
    "uni_doubles = make_uni(doubles)\n",
    "print(uni_alphabet)\n",
    "print(uni_doubles)"
   ]
  },
  {
   "cell_type": "code",
   "execution_count": null,
   "metadata": {},
   "outputs": [],
   "source": [
    "print('Απόσταση ως προς το αλφάβητο:',distance(pdf_alphabet,uni_alphabet))"
   ]
  },
  {
   "cell_type": "code",
   "execution_count": null,
   "metadata": {},
   "outputs": [],
   "source": [
    "print('Απόσταση ως προς τις δυάδες:',distance(pdf_doubles,uni_doubles))"
   ]
  },
  {
   "cell_type": "code",
   "execution_count": null,
   "metadata": {},
   "outputs": [],
   "source": []
  }
 ],
 "metadata": {
  "kernelspec": {
   "display_name": "Python 3",
   "language": "python",
   "name": "python3"
  },
  "language_info": {
   "codemirror_mode": {
    "name": "ipython",
    "version": 3
   },
   "file_extension": ".py",
   "mimetype": "text/x-python",
   "name": "python",
   "nbconvert_exporter": "python",
   "pygments_lexer": "ipython3",
   "version": "3.7.4"
  }
 },
 "nbformat": 4,
 "nbformat_minor": 2
}
