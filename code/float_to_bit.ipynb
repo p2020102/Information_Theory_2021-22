{
 "cells": [
  {
   "cell_type": "code",
   "execution_count": null,
   "metadata": {},
   "outputs": [],
   "source": [
    "a = float(input('Give a number: '))\n",
    "a = a - int(a)\n",
    "r = -1\n",
    "b = []\n",
    "while a > 10**(-5):\n",
    "    if a >= 2**r:\n",
    "        b.append('1')\n",
    "        a = a - 2**r\n",
    "    else:\n",
    "        b.append('0')\n",
    "    r -= 1\n",
    "print('Υπόλοιπο a = ',a)\n",
    "print('r = ',r)\n",
    "print(b)\n",
    "print(''.join(b))"
   ]
  }
 ],
 "metadata": {
  "kernelspec": {
   "display_name": "Python 3",
   "language": "python",
   "name": "python3"
  },
  "language_info": {
   "codemirror_mode": {
    "name": "ipython",
    "version": 3
   },
   "file_extension": ".py",
   "mimetype": "text/x-python",
   "name": "python",
   "nbconvert_exporter": "python",
   "pygments_lexer": "ipython3",
   "version": "3.6.9"
  }
 },
 "nbformat": 4,
 "nbformat_minor": 2
}
