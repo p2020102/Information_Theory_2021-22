{
 "cells": [
  {
   "cell_type": "code",
   "execution_count": 1,
   "metadata": {},
   "outputs": [],
   "source": [
    "#Code Shannon-Fano-Elias\n",
    "import math"
   ]
  },
  {
   "cell_type": "code",
   "execution_count": 2,
   "metadata": {},
   "outputs": [],
   "source": [
    "def code_words(a):\n",
    "    a = a - int(a)\n",
    "    r = -1\n",
    "    b = []\n",
    "    while a > 10**(-5):\n",
    "        if a >= 2**r:\n",
    "            b.append('1')\n",
    "            a = a - 2**r\n",
    "        else:\n",
    "            b.append('0')\n",
    "        r -= 1\n",
    "    return ''.join(b)"
   ]
  },
  {
   "cell_type": "code",
   "execution_count": 3,
   "metadata": {},
   "outputs": [],
   "source": [
    "def length_words(p):\n",
    "    lp = []\n",
    "    for i in p:\n",
    "        m_l = math.log(1/i,2)\n",
    "        if m_l == int(m_l):\n",
    "            lp.append(int(m_l)+1)\n",
    "        else:\n",
    "            lp.append(int(m_l)+2)\n",
    "    return lp"
   ]
  },
  {
   "cell_type": "code",
   "execution_count": 4,
   "metadata": {},
   "outputs": [
    {
     "name": "stdout",
     "output_type": "stream",
     "text": [
      "F =  [0.3333333333333333, 0.5833333333333333, 0.7499999999999999, 0.9999999999999999] \n",
      "FI =  [0.16666666666666666, 0.4583333333333333, 0.6666666666666666, 0.8749999999999999] \n",
      "L =  ['00101010101010101', '0111010101010101', '10101010101010101', '11011111111111111'] \n",
      "LP =  [3, 3, 4, 3] \n",
      "Code =  ['001', '011', '1010', '110']\n",
      "110\n"
     ]
    }
   ],
   "source": [
    "p = [1/3,1/4,1/6,1/4]\n",
    "f = []\n",
    "fi = []\n",
    "s = 0\n",
    "for i in range(len(p)):\n",
    "    s += p[i]\n",
    "    f.append(s)\n",
    "    if i == 0:\n",
    "        fi.append(p[i]/2)\n",
    "    else:\n",
    "        fi.append(f[i-1] + p[i]/2)\n",
    "l = []\n",
    "for i in fi:\n",
    "    l.append(code_words(i))\n",
    "\n",
    "l_w = length_words(p)\n",
    "c = []\n",
    "for i in range(len(p)):\n",
    "    c.append(l[i][:l_w[i]])\n",
    "    \n",
    "print('F = ',f,'\\nFI = ',fi,'\\nL = ',l,'\\nLP = ',l_w,'\\nCode = ',c)\n",
    "print(''.join(c[3]))"
   ]
  },
  {
   "cell_type": "code",
   "execution_count": 5,
   "metadata": {},
   "outputs": [
    {
     "name": "stdout",
     "output_type": "stream",
     "text": [
      "H(X) =  1.9591479170272448 L(X) =  3.1666666666666665 Eff = 0.618678289587551\n"
     ]
    }
   ],
   "source": [
    "h = 0\n",
    "l_sfe = 0\n",
    "for i in range(len(p)):\n",
    "    h -= p[i] * math.log(p[i],2)\n",
    "    l_sfe += p[i] * len(c[i]) \n",
    "print('H(X) = ',h,'L(X) = ',l_sfe,'Eff =',h/l_sfe)"
   ]
  }
 ],
 "metadata": {
  "kernelspec": {
   "display_name": "Python 3",
   "language": "python",
   "name": "python3"
  },
  "language_info": {
   "codemirror_mode": {
    "name": "ipython",
    "version": 3
   },
   "file_extension": ".py",
   "mimetype": "text/x-python",
   "name": "python",
   "nbconvert_exporter": "python",
   "pygments_lexer": "ipython3",
   "version": "3.7.4"
  }
 },
 "nbformat": 4,
 "nbformat_minor": 2
}
