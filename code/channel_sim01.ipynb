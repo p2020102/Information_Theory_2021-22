{
 "cells": [
  {
   "cell_type": "code",
   "execution_count": 1,
   "metadata": {},
   "outputs": [
    {
     "name": "stdout",
     "output_type": "stream",
     "text": [
      "EDCBCCDBCCECBDDBEEEEBDEDCACDEECEBECADBEDACEBBEACBE\n",
      "50\n"
     ]
    }
   ],
   "source": [
    "import random\n",
    "import string\n",
    "\n",
    "#Δημιουργία μηνύματος\n",
    "alphabet = ['A','B','C','D','E']\n",
    "random.seed(0)\n",
    "mes_in = ''.join(random.choices(alphabet, k=50))\n",
    "print(mes_in)\n",
    "print(len(mes_in))"
   ]
  },
  {
   "cell_type": "code",
   "execution_count": 2,
   "metadata": {},
   "outputs": [],
   "source": [
    "def coding(mes,code):\n",
    "    coded_mes = []\n",
    "    for i in mes:\n",
    "        coded_mes.append(code[i])\n",
    "    return ''.join(coded_mes)"
   ]
  },
  {
   "cell_type": "code",
   "execution_count": 3,
   "metadata": {},
   "outputs": [
    {
     "name": "stdout",
     "output_type": "stream",
     "text": [
      "101100011010011011100010011011101011010100100010101101101101010100101100011001011100101101011101010101011001100010101100001011101010010101001011010101\n",
      "150\n"
     ]
    }
   ],
   "source": [
    "#Κωδικοποίηση μηνύματος\n",
    "code = {'A':'001','B':'010','C':'011','D':'100','E':'101'}\n",
    "mes_to_send = coding(mes_in,code)\n",
    "print(mes_to_send)\n",
    "print(len(mes_to_send))\n",
    "#αλφάβητο εισόδου-εξόδου\n",
    "x_al = ['0','1']"
   ]
  },
  {
   "cell_type": "code",
   "execution_count": 4,
   "metadata": {},
   "outputs": [],
   "source": [
    "def com_coding01(mes,n):\n",
    "    coded_mes = []\n",
    "    for i in mes:\n",
    "        coded_mes.append(n*i)\n",
    "    return ''.join(coded_mes)"
   ]
  },
  {
   "cell_type": "code",
   "execution_count": 15,
   "metadata": {},
   "outputs": [
    {
     "name": "stdout",
     "output_type": "stream",
     "text": [
      "110011110000001111001100001111001111110000001100001111001111110011001111001100110000110000001100110011110011110011110011001100110000110011110000001111000011001111110000110011110011001111110011001100110011001111000011110000001100110011110000000011001111110011001100001100110011000011001111001100110011\n",
      "300\n"
     ]
    }
   ],
   "source": [
    "#Κωδικοποίηση καναλιού\n",
    "n = 2  #αριθμός επαναλήψεων του κάθε bit\n",
    "coded_mes_to_send = com_coding01(mes_to_send,n)\n",
    "print(coded_mes_to_send)\n",
    "print(len(coded_mes_to_send))"
   ]
  },
  {
   "cell_type": "code",
   "execution_count": 16,
   "metadata": {},
   "outputs": [],
   "source": [
    "def channel01(in_s,alpha,p):\n",
    "    out_s = []\n",
    "    for i in in_s:\n",
    "        if random.random() < p:\n",
    "            out_s.append(alpha[(alpha.index(i)+1)%2])\n",
    "        else:\n",
    "            out_s.append(i)\n",
    "    return ''.join(out_s)"
   ]
  },
  {
   "cell_type": "code",
   "execution_count": 17,
   "metadata": {},
   "outputs": [
    {
     "name": "stdout",
     "output_type": "stream",
     "text": [
      "110011010000001111101100011111001111110000111100001111001011110011010111001101110000110000001100110011110011110011110011001101110000000011111010001110001011001111110000100011110011001111110011001100011011001111000001110010001100110011110000000011001111010011001100001100110011000011011111000100110111\n"
     ]
    }
   ],
   "source": [
    "#Πέρασμα κωδικοποιημένου μηνύματος από το κανάλι\n",
    "#πιθανότητα σφάλματος\n",
    "p = 0.1\n",
    "received_uncoded_mes = channel01(coded_mes_to_send,x_al,p)\n",
    "print(received_uncoded_mes)"
   ]
  },
  {
   "cell_type": "code",
   "execution_count": 18,
   "metadata": {},
   "outputs": [],
   "source": [
    "def com_decoding01(mes,n):\n",
    "    y = []\n",
    "    for i in range(0,len(mes),n):\n",
    "        s = mes[i:i+n]\n",
    "        if s.count('0') > n//2:\n",
    "            y.append('0')\n",
    "        else:\n",
    "            y.append('1')\n",
    "    return ''.join(y)"
   ]
  },
  {
   "cell_type": "code",
   "execution_count": 19,
   "metadata": {},
   "outputs": [
    {
     "name": "stdout",
     "output_type": "stream",
     "text": [
      "101100011110111011100110011011101111011100100010101101101101011100001111011011011100101101011101010111011001101010101100001011101010010101001111010111\n",
      "150\n"
     ]
    }
   ],
   "source": [
    "#Αποκωδικοποίηση επικοινωνίας\n",
    "received_mes = com_decoding01(received_uncoded_mes,n)\n",
    "print(received_mes)\n",
    "print(len(received_mes))"
   ]
  },
  {
   "cell_type": "code",
   "execution_count": 20,
   "metadata": {},
   "outputs": [],
   "source": [
    "def decoding01(mes,code):\n",
    "    decoded = []\n",
    "    max_codeword = 0\n",
    "    for i in code.keys():\n",
    "        if max_codeword < len(code[i]):\n",
    "            max_codeword = len(code[i])\n",
    "    for i in range(0,len(mes),max_codeword):\n",
    "        letter = ''\n",
    "        for key, value in code.items():  \n",
    "            if value == mes[i:i+3]:\n",
    "                letter = key\n",
    "        if letter == '':\n",
    "            letter = '_'\n",
    "        decoded.append(letter)\n",
    "    return ''.join(decoded)  "
   ]
  },
  {
   "cell_type": "code",
   "execution_count": 21,
   "metadata": {},
   "outputs": [
    {
     "name": "stdout",
     "output_type": "stream",
     "text": [
      "EDC__CD_CCE_CDDBEEEECDA_CCCDEECEB_CAEBEDACEBBEA_B_\n",
      "50\n"
     ]
    }
   ],
   "source": [
    "#Τελική αποκωδικοποίηση μηνύματος\n",
    "r_message = decoding01(received_mes,code)\n",
    "print(r_message)\n",
    "print(len(r_message))"
   ]
  },
  {
   "cell_type": "code",
   "execution_count": 22,
   "metadata": {},
   "outputs": [],
   "source": [
    "def hamming_distance(s1, s2):\n",
    "    return sum(c1 != c2 for c1, c2 in zip(s1, s2))"
   ]
  },
  {
   "cell_type": "code",
   "execution_count": 23,
   "metadata": {},
   "outputs": [
    {
     "name": "stdout",
     "output_type": "stream",
     "text": [
      "Διαφορά από κωδικοποιημένο μήνυμα:  14\n",
      "Διαφορά από αρχικό μήνυμα:  13\n"
     ]
    }
   ],
   "source": [
    "print('Διαφορά από κωδικοποιημένο μήνυμα: ',hamming_distance(mes_to_send,received_mes))\n",
    "print('Διαφορά από αρχικό μήνυμα: ',hamming_distance(mes_in,r_message))"
   ]
  },
  {
   "cell_type": "code",
   "execution_count": 24,
   "metadata": {},
   "outputs": [
    {
     "name": "stdout",
     "output_type": "stream",
     "text": [
      "Ρυθμός για n =  2 : R =  0.3869880158145604  bits\n",
      "Χωρητικότητα καναλιού  C =  0.5310044064107188\n"
     ]
    }
   ],
   "source": [
    "import math\n",
    "\n",
    "c = 1 - (-p*math.log(p,2) - (1-p)*math.log((1-p),2))\n",
    "print('Ρυθμός για n = ',n,': R = ',math.log(5,2)/(n*3),' bits')\n",
    "print('Χωρητικότητα καναλιού  C = ',c)"
   ]
  },
  {
   "cell_type": "code",
   "execution_count": null,
   "metadata": {},
   "outputs": [],
   "source": []
  }
 ],
 "metadata": {
  "kernelspec": {
   "display_name": "Python 3",
   "language": "python",
   "name": "python3"
  },
  "language_info": {
   "codemirror_mode": {
    "name": "ipython",
    "version": 3
   },
   "file_extension": ".py",
   "mimetype": "text/x-python",
   "name": "python",
   "nbconvert_exporter": "python",
   "pygments_lexer": "ipython3",
   "version": "3.7.4"
  }
 },
 "nbformat": 4,
 "nbformat_minor": 2
}
